{
 "cells": [
  {
   "cell_type": "markdown",
   "id": "1022259a",
   "metadata": {},
   "source": [
    "# Session #3 Homework"
   ]
  },
  {
   "cell_type": "code",
   "execution_count": 1,
   "id": "4cd14bd9",
   "metadata": {},
   "outputs": [],
   "source": [
    "import numpy as np\n",
    "import pandas as pd\n",
    "\n",
    "from sklearn.model_selection import train_test_split\n",
    "from sklearn.metrics import mutual_info_score\n",
    "from sklearn.feature_extraction import DictVectorizer\n",
    "from sklearn.preprocessing import normalize\n",
    "from sklearn.linear_model import LogisticRegression, Ridge\n",
    "from sklearn.metrics import mean_squared_error"
   ]
  },
  {
   "cell_type": "code",
   "execution_count": 2,
   "id": "289dca5c",
   "metadata": {},
   "outputs": [],
   "source": [
    "# Load dataset\n",
    "df = pd.read_csv(\"AB_NYC_2019.csv\").reset_index()"
   ]
  },
  {
   "cell_type": "markdown",
   "id": "83268e8b",
   "metadata": {},
   "source": [
    "## Features"
   ]
  },
  {
   "cell_type": "code",
   "execution_count": 3,
   "id": "0ee6c490",
   "metadata": {},
   "outputs": [
    {
     "data": {
      "text/html": [
       "<div>\n",
       "<style scoped>\n",
       "    .dataframe tbody tr th:only-of-type {\n",
       "        vertical-align: middle;\n",
       "    }\n",
       "\n",
       "    .dataframe tbody tr th {\n",
       "        vertical-align: top;\n",
       "    }\n",
       "\n",
       "    .dataframe thead th {\n",
       "        text-align: right;\n",
       "    }\n",
       "</style>\n",
       "<table border=\"1\" class=\"dataframe\">\n",
       "  <thead>\n",
       "    <tr style=\"text-align: right;\">\n",
       "      <th></th>\n",
       "      <th>neighbourhood_group</th>\n",
       "      <th>room_type</th>\n",
       "      <th>latitude</th>\n",
       "      <th>longitude</th>\n",
       "      <th>price</th>\n",
       "      <th>minimum_nights</th>\n",
       "      <th>number_of_reviews</th>\n",
       "      <th>reviews_per_month</th>\n",
       "      <th>calculated_host_listings_count</th>\n",
       "      <th>availability_365</th>\n",
       "    </tr>\n",
       "  </thead>\n",
       "  <tbody>\n",
       "    <tr>\n",
       "      <th>0</th>\n",
       "      <td>Brooklyn</td>\n",
       "      <td>Private room</td>\n",
       "      <td>40.64749</td>\n",
       "      <td>-73.97237</td>\n",
       "      <td>149</td>\n",
       "      <td>1</td>\n",
       "      <td>9</td>\n",
       "      <td>0.21</td>\n",
       "      <td>6</td>\n",
       "      <td>365</td>\n",
       "    </tr>\n",
       "    <tr>\n",
       "      <th>1</th>\n",
       "      <td>Manhattan</td>\n",
       "      <td>Entire home/apt</td>\n",
       "      <td>40.75362</td>\n",
       "      <td>-73.98377</td>\n",
       "      <td>225</td>\n",
       "      <td>1</td>\n",
       "      <td>45</td>\n",
       "      <td>0.38</td>\n",
       "      <td>2</td>\n",
       "      <td>355</td>\n",
       "    </tr>\n",
       "    <tr>\n",
       "      <th>2</th>\n",
       "      <td>Manhattan</td>\n",
       "      <td>Private room</td>\n",
       "      <td>40.80902</td>\n",
       "      <td>-73.94190</td>\n",
       "      <td>150</td>\n",
       "      <td>3</td>\n",
       "      <td>0</td>\n",
       "      <td>NaN</td>\n",
       "      <td>1</td>\n",
       "      <td>365</td>\n",
       "    </tr>\n",
       "    <tr>\n",
       "      <th>3</th>\n",
       "      <td>Brooklyn</td>\n",
       "      <td>Entire home/apt</td>\n",
       "      <td>40.68514</td>\n",
       "      <td>-73.95976</td>\n",
       "      <td>89</td>\n",
       "      <td>1</td>\n",
       "      <td>270</td>\n",
       "      <td>4.64</td>\n",
       "      <td>1</td>\n",
       "      <td>194</td>\n",
       "    </tr>\n",
       "    <tr>\n",
       "      <th>4</th>\n",
       "      <td>Manhattan</td>\n",
       "      <td>Entire home/apt</td>\n",
       "      <td>40.79851</td>\n",
       "      <td>-73.94399</td>\n",
       "      <td>80</td>\n",
       "      <td>10</td>\n",
       "      <td>9</td>\n",
       "      <td>0.10</td>\n",
       "      <td>1</td>\n",
       "      <td>0</td>\n",
       "    </tr>\n",
       "  </tbody>\n",
       "</table>\n",
       "</div>"
      ],
      "text/plain": [
       "  neighbourhood_group        room_type  latitude  longitude  price  \\\n",
       "0            Brooklyn     Private room  40.64749  -73.97237    149   \n",
       "1           Manhattan  Entire home/apt  40.75362  -73.98377    225   \n",
       "2           Manhattan     Private room  40.80902  -73.94190    150   \n",
       "3            Brooklyn  Entire home/apt  40.68514  -73.95976     89   \n",
       "4           Manhattan  Entire home/apt  40.79851  -73.94399     80   \n",
       "\n",
       "   minimum_nights  number_of_reviews  reviews_per_month  \\\n",
       "0               1                  9               0.21   \n",
       "1               1                 45               0.38   \n",
       "2               3                  0                NaN   \n",
       "3               1                270               4.64   \n",
       "4              10                  9               0.10   \n",
       "\n",
       "   calculated_host_listings_count  availability_365  \n",
       "0                               6               365  \n",
       "1                               2               355  \n",
       "2                               1               365  \n",
       "3                               1               194  \n",
       "4                               1                 0  "
      ]
     },
     "execution_count": 3,
     "metadata": {},
     "output_type": "execute_result"
    }
   ],
   "source": [
    "# Only select specified columns\n",
    "columns = [\"neighbourhood_group\", \"room_type\", \"latitude\", \"longitude\", \"price\", \"minimum_nights\", \"number_of_reviews\", \"reviews_per_month\", \"calculated_host_listings_count\", \"availability_365\"]\n",
    "df = df[columns]\n",
    "df.head()"
   ]
  },
  {
   "cell_type": "code",
   "execution_count": 4,
   "id": "30b9b10b",
   "metadata": {},
   "outputs": [
    {
     "data": {
      "text/plain": [
       "neighbourhood_group                   0\n",
       "room_type                             0\n",
       "latitude                              0\n",
       "longitude                             0\n",
       "price                                 0\n",
       "minimum_nights                        0\n",
       "number_of_reviews                     0\n",
       "reviews_per_month                 10052\n",
       "calculated_host_listings_count        0\n",
       "availability_365                      0\n",
       "dtype: int64"
      ]
     },
     "execution_count": 4,
     "metadata": {},
     "output_type": "execute_result"
    }
   ],
   "source": [
    "# Check missing values\n",
    "df.isnull().sum()"
   ]
  },
  {
   "cell_type": "code",
   "execution_count": 5,
   "id": "b6fb7e47",
   "metadata": {},
   "outputs": [],
   "source": [
    "# Fill missing values with 0\n",
    "df.fillna(value={\"reviews_per_month\": 0}, inplace=True)"
   ]
  },
  {
   "cell_type": "markdown",
   "id": "7b570062",
   "metadata": {},
   "source": [
    "## Question 1\n",
    "What is the most frequent observation (mode) for the column `neighbourhood_group`?"
   ]
  },
  {
   "cell_type": "code",
   "execution_count": 6,
   "id": "bbcb66e5",
   "metadata": {},
   "outputs": [
    {
     "data": {
      "text/plain": [
       "Manhattan        21661\n",
       "Brooklyn         20104\n",
       "Queens            5666\n",
       "Bronx             1091\n",
       "Staten Island      373\n",
       "Name: neighbourhood_group, dtype: int64"
      ]
     },
     "execution_count": 6,
     "metadata": {},
     "output_type": "execute_result"
    }
   ],
   "source": [
    "df[\"neighbourhood_group\"].value_counts()"
   ]
  },
  {
   "cell_type": "markdown",
   "id": "b6fcbab5",
   "metadata": {},
   "source": [
    "**Manhattan** is the most frequent observation for the column `neighbourhood_group`."
   ]
  },
  {
   "cell_type": "code",
   "execution_count": 7,
   "id": "52b6208b",
   "metadata": {},
   "outputs": [],
   "source": [
    "# Create a variable above_average\n",
    "df[\"above_average\"] = (df[\"price\"] >= 152).astype(int)"
   ]
  },
  {
   "cell_type": "code",
   "execution_count": 8,
   "id": "a1319996",
   "metadata": {},
   "outputs": [],
   "source": [
    "# Split your data in train/val/test sets, with 60%/20%/20% distribution\n",
    "df_full_train, df_test = train_test_split(df, test_size=0.2, random_state=42)\n",
    "df_train, df_val = train_test_split(df_full_train, test_size=0.25, random_state=42)\n",
    "\n",
    "# Reset index\n",
    "df_train = df_train.reset_index(drop=True)\n",
    "df_val = df_val.reset_index(drop=True)\n",
    "df_test = df_test.reset_index(drop=True)\n",
    "\n",
    "y_train = df_train[[\"price\", \"above_average\"]]\n",
    "y_val = df_val[[\"price\", \"above_average\"]]\n",
    "y_test = df_test[[\"price\", \"above_average\"]]\n",
    "\n",
    "# Delete target variable `price` and `above_average` from the dataframes\n",
    "df_train.drop([\"price\", \"above_average\"], axis=1, inplace=True)\n",
    "df_val.drop([\"price\", \"above_average\"], axis=1, inplace=True)\n",
    "df_test.drop([\"price\", \"above_average\"], axis=1, inplace=True)"
   ]
  },
  {
   "cell_type": "markdown",
   "id": "695f3cfc",
   "metadata": {},
   "source": [
    "## Question 2\n",
    "Create the correlation matrix for the numerical features of your train dataset."
   ]
  },
  {
   "cell_type": "code",
   "execution_count": 9,
   "id": "9e1c5f52",
   "metadata": {},
   "outputs": [
    {
     "data": {
      "text/html": [
       "<div>\n",
       "<style scoped>\n",
       "    .dataframe tbody tr th:only-of-type {\n",
       "        vertical-align: middle;\n",
       "    }\n",
       "\n",
       "    .dataframe tbody tr th {\n",
       "        vertical-align: top;\n",
       "    }\n",
       "\n",
       "    .dataframe thead th {\n",
       "        text-align: right;\n",
       "    }\n",
       "</style>\n",
       "<table border=\"1\" class=\"dataframe\">\n",
       "  <thead>\n",
       "    <tr style=\"text-align: right;\">\n",
       "      <th></th>\n",
       "      <th>latitude</th>\n",
       "      <th>longitude</th>\n",
       "      <th>minimum_nights</th>\n",
       "      <th>number_of_reviews</th>\n",
       "      <th>reviews_per_month</th>\n",
       "      <th>calculated_host_listings_count</th>\n",
       "      <th>availability_365</th>\n",
       "    </tr>\n",
       "  </thead>\n",
       "  <tbody>\n",
       "    <tr>\n",
       "      <th>latitude</th>\n",
       "      <td>1.000000</td>\n",
       "      <td>0.080301</td>\n",
       "      <td>0.027441</td>\n",
       "      <td>-0.006246</td>\n",
       "      <td>-0.007159</td>\n",
       "      <td>0.019375</td>\n",
       "      <td>-0.005891</td>\n",
       "    </tr>\n",
       "    <tr>\n",
       "      <th>longitude</th>\n",
       "      <td>0.080301</td>\n",
       "      <td>1.000000</td>\n",
       "      <td>-0.060660</td>\n",
       "      <td>0.055084</td>\n",
       "      <td>0.134642</td>\n",
       "      <td>-0.117041</td>\n",
       "      <td>0.083666</td>\n",
       "    </tr>\n",
       "    <tr>\n",
       "      <th>minimum_nights</th>\n",
       "      <td>0.027441</td>\n",
       "      <td>-0.060660</td>\n",
       "      <td>1.000000</td>\n",
       "      <td>-0.076020</td>\n",
       "      <td>-0.120703</td>\n",
       "      <td>0.118647</td>\n",
       "      <td>0.138901</td>\n",
       "    </tr>\n",
       "    <tr>\n",
       "      <th>number_of_reviews</th>\n",
       "      <td>-0.006246</td>\n",
       "      <td>0.055084</td>\n",
       "      <td>-0.076020</td>\n",
       "      <td>1.000000</td>\n",
       "      <td>0.590374</td>\n",
       "      <td>-0.073167</td>\n",
       "      <td>0.174477</td>\n",
       "    </tr>\n",
       "    <tr>\n",
       "      <th>reviews_per_month</th>\n",
       "      <td>-0.007159</td>\n",
       "      <td>0.134642</td>\n",
       "      <td>-0.120703</td>\n",
       "      <td>0.590374</td>\n",
       "      <td>1.000000</td>\n",
       "      <td>-0.048767</td>\n",
       "      <td>0.165376</td>\n",
       "    </tr>\n",
       "    <tr>\n",
       "      <th>calculated_host_listings_count</th>\n",
       "      <td>0.019375</td>\n",
       "      <td>-0.117041</td>\n",
       "      <td>0.118647</td>\n",
       "      <td>-0.073167</td>\n",
       "      <td>-0.048767</td>\n",
       "      <td>1.000000</td>\n",
       "      <td>0.225913</td>\n",
       "    </tr>\n",
       "    <tr>\n",
       "      <th>availability_365</th>\n",
       "      <td>-0.005891</td>\n",
       "      <td>0.083666</td>\n",
       "      <td>0.138901</td>\n",
       "      <td>0.174477</td>\n",
       "      <td>0.165376</td>\n",
       "      <td>0.225913</td>\n",
       "      <td>1.000000</td>\n",
       "    </tr>\n",
       "  </tbody>\n",
       "</table>\n",
       "</div>"
      ],
      "text/plain": [
       "                                latitude  longitude  minimum_nights  \\\n",
       "latitude                        1.000000   0.080301        0.027441   \n",
       "longitude                       0.080301   1.000000       -0.060660   \n",
       "minimum_nights                  0.027441  -0.060660        1.000000   \n",
       "number_of_reviews              -0.006246   0.055084       -0.076020   \n",
       "reviews_per_month              -0.007159   0.134642       -0.120703   \n",
       "calculated_host_listings_count  0.019375  -0.117041        0.118647   \n",
       "availability_365               -0.005891   0.083666        0.138901   \n",
       "\n",
       "                                number_of_reviews  reviews_per_month  \\\n",
       "latitude                                -0.006246          -0.007159   \n",
       "longitude                                0.055084           0.134642   \n",
       "minimum_nights                          -0.076020          -0.120703   \n",
       "number_of_reviews                        1.000000           0.590374   \n",
       "reviews_per_month                        0.590374           1.000000   \n",
       "calculated_host_listings_count          -0.073167          -0.048767   \n",
       "availability_365                         0.174477           0.165376   \n",
       "\n",
       "                                calculated_host_listings_count  \\\n",
       "latitude                                              0.019375   \n",
       "longitude                                            -0.117041   \n",
       "minimum_nights                                        0.118647   \n",
       "number_of_reviews                                    -0.073167   \n",
       "reviews_per_month                                    -0.048767   \n",
       "calculated_host_listings_count                        1.000000   \n",
       "availability_365                                      0.225913   \n",
       "\n",
       "                                availability_365  \n",
       "latitude                               -0.005891  \n",
       "longitude                               0.083666  \n",
       "minimum_nights                          0.138901  \n",
       "number_of_reviews                       0.174477  \n",
       "reviews_per_month                       0.165376  \n",
       "calculated_host_listings_count          0.225913  \n",
       "availability_365                        1.000000  "
      ]
     },
     "execution_count": 9,
     "metadata": {},
     "output_type": "execute_result"
    }
   ],
   "source": [
    "df_train.iloc[:,2:].corr()"
   ]
  },
  {
   "cell_type": "markdown",
   "id": "20d27d34",
   "metadata": {},
   "source": [
    "What are the two features that have the biggest correlation in this dataset?\n",
    "\n",
    "**reviews_per_month** and **number_of_reviews** have the biggest correlation, which is 0.59."
   ]
  },
  {
   "cell_type": "markdown",
   "id": "e75d2b16",
   "metadata": {},
   "source": [
    "## Question 3\n",
    "Calculate the mutual information score with the (binarized) price for the two categorical variables that we have. Use the training set only."
   ]
  },
  {
   "cell_type": "code",
   "execution_count": 10,
   "id": "1461f838",
   "metadata": {},
   "outputs": [
    {
     "data": {
      "text/plain": [
       "0.05"
      ]
     },
     "execution_count": 10,
     "metadata": {},
     "output_type": "execute_result"
    }
   ],
   "source": [
    "mutual_info_score(df_train[\"neighbourhood_group\"], y_train[\"above_average\"]).round(2)"
   ]
  },
  {
   "cell_type": "code",
   "execution_count": 11,
   "id": "f209e990",
   "metadata": {},
   "outputs": [
    {
     "data": {
      "text/plain": [
       "0.14"
      ]
     },
     "execution_count": 11,
     "metadata": {},
     "output_type": "execute_result"
    }
   ],
   "source": [
    "mutual_info_score(df_train[\"room_type\"], y_train[\"above_average\"]).round(2)"
   ]
  },
  {
   "cell_type": "markdown",
   "id": "c0f77101",
   "metadata": {},
   "source": [
    "**room_type** has bigger score."
   ]
  },
  {
   "cell_type": "markdown",
   "id": "3b9ff242",
   "metadata": {},
   "source": [
    "## Question 4"
   ]
  },
  {
   "cell_type": "code",
   "execution_count": 12,
   "id": "b533b801",
   "metadata": {},
   "outputs": [],
   "source": [
    "# Apply one hot encoding\n",
    "dv = DictVectorizer(sparse=False)\n",
    "\n",
    "train_dict = df_train.to_dict(orient=\"records\")\n",
    "X_train = dv.fit_transform(train_dict)\n",
    "\n",
    "val_dict = df_val.to_dict(orient=\"records\")\n",
    "X_val = dv.fit_transform(val_dict)"
   ]
  },
  {
   "cell_type": "code",
   "execution_count": 13,
   "id": "29fb7c84",
   "metadata": {},
   "outputs": [],
   "source": [
    "# Normalize the array\n",
    "X_train = normalize(X_train)\n",
    "X_val = normalize(X_val)"
   ]
  },
  {
   "cell_type": "code",
   "execution_count": 14,
   "id": "15700d9b",
   "metadata": {},
   "outputs": [
    {
     "data": {
      "text/plain": [
       "LogisticRegression(random_state=42)"
      ]
     },
     "execution_count": 14,
     "metadata": {},
     "output_type": "execute_result"
    }
   ],
   "source": [
    "# Train logistic regression\n",
    "model = LogisticRegression(solver=\"lbfgs\", C=1.0, random_state=42)\n",
    "model.fit(X_train, y_train[\"above_average\"])"
   ]
  },
  {
   "cell_type": "code",
   "execution_count": 15,
   "id": "c09059ed",
   "metadata": {},
   "outputs": [
    {
     "data": {
      "text/plain": [
       "(-0.6676643961687555,\n",
       " array([  0.212,   3.323,  -0.471,   0.127,  -0.937,  -0.895,  -6.185,\n",
       "         11.166,  -3.88 ,  -0.222,  -0.79 ,  -2.784,  21.159, -20.122,\n",
       "         -1.053]))"
      ]
     },
     "execution_count": 15,
     "metadata": {},
     "output_type": "execute_result"
    }
   ],
   "source": [
    "# Model intercept and coefficients\n",
    "model.intercept_[0], model.coef_[0].round(3)"
   ]
  },
  {
   "cell_type": "code",
   "execution_count": 16,
   "id": "f37dd800",
   "metadata": {},
   "outputs": [],
   "source": [
    "# Model prediction on validation dataset\n",
    "y_pred = model.predict_proba(X_val)[:, 1]\n",
    "\n",
    "price_decision = (y_pred >= 152).astype(int)"
   ]
  },
  {
   "cell_type": "code",
   "execution_count": 17,
   "id": "c3bbaa09",
   "metadata": {},
   "outputs": [
    {
     "name": "stdout",
     "output_type": "stream",
     "text": [
      "0.69\n"
     ]
    }
   ],
   "source": [
    "# Calculate the accuracy on the validation dataset\n",
    "accuracy = (price_decision == y_val[\"above_average\"]).mean().round(2)\n",
    "print(accuracy)"
   ]
  },
  {
   "cell_type": "markdown",
   "id": "bec484e0",
   "metadata": {},
   "source": [
    "## Question 5"
   ]
  },
  {
   "cell_type": "code",
   "execution_count": 18,
   "id": "1b03ca1a",
   "metadata": {
    "scrolled": false
   },
   "outputs": [
    {
     "name": "stdout",
     "output_type": "stream",
     "text": [
      "Exclude column: neighbourhood_group, Accuracy: 0.7097862767154106, Difference: 0.019786276715410667\n",
      "Exclude column: room_type, Accuracy: 0.707741077819818, Difference: 0.01774107781981804\n",
      "Exclude column: latitude, Accuracy: 0.7097862767154106, Difference: 0.019786276715410667\n",
      "Exclude column: longitude, Accuracy: 0.7110133960527661, Difference: 0.021013396052766198\n",
      "Exclude column: price, Accuracy: 0.7097862767154106, Difference: 0.019786276715410667\n",
      "Exclude column: minimum_nights, Accuracy: 0.7093772369362921, Difference: 0.01937723693629212\n",
      "Exclude column: number_of_reviews, Accuracy: 0.7086614173228346, Difference: 0.01866141732283466\n",
      "Exclude column: reviews_per_month, Accuracy: 0.7097862767154106, Difference: 0.019786276715410667\n",
      "Exclude column: calculated_host_listings_count, Accuracy: 0.6934246855506698, Difference: 0.0034246855506698815\n",
      "Exclude column: availability_365, Accuracy: 0.7098885366601903, Difference: 0.019888536660190304\n"
     ]
    }
   ],
   "source": [
    "dv = DictVectorizer(sparse=False)\n",
    "\n",
    "for column in columns:\n",
    "    features = list(set(columns) - {column, \"price\"})\n",
    "    df_train_ex = df_train[features]\n",
    "    df_val_ex = df_val[features]\n",
    "    \n",
    "    # Apply one hot encoding    \n",
    "    train_dict = df_train_ex.to_dict(orient=\"records\")\n",
    "    X_train = dv.fit_transform(train_dict)\n",
    "    \n",
    "    val_dict = df_val_ex.to_dict(orient=\"records\")\n",
    "    X_val = dv.fit_transform(val_dict)\n",
    "    \n",
    "    # Normalize the array\n",
    "    X_train = normalize(X_train)\n",
    "    X_val = normalize(X_val)\n",
    "    \n",
    "    # Train logistic regression\n",
    "    model = LogisticRegression(solver=\"lbfgs\", C=1.0, random_state=42)\n",
    "    model.fit(X_train, y_train[\"above_average\"])\n",
    "    \n",
    "    # Model prediction on validation dataset\n",
    "    y_pred = model.predict_proba(X_val)[:, 1]\n",
    "    \n",
    "    price_decision = (y_pred >= 0.5).astype(int)\n",
    "    \n",
    "    # Calculate the accuracy on the validation dataset\n",
    "    accuracy_ex = (price_decision == y_val[\"above_average\"]).mean()\n",
    "    print(\"Exclude column: {}, Accuracy: {}, Difference: {}\".format(column, accuracy_ex, np.abs(accuracy-accuracy_ex)))"
   ]
  },
  {
   "cell_type": "markdown",
   "id": "26877776",
   "metadata": {},
   "source": [
    "Among `neighbourhood_group`, `room_type`, `number_of_reviews`, `reviews_per_month`, the feature with smallest difference is **room_type**."
   ]
  },
  {
   "cell_type": "markdown",
   "id": "0e1a70b3",
   "metadata": {},
   "source": [
    "## Question 6"
   ]
  },
  {
   "cell_type": "code",
   "execution_count": 19,
   "id": "a9edad2c",
   "metadata": {},
   "outputs": [
    {
     "name": "stdout",
     "output_type": "stream",
     "text": [
      "Alpha: 0, Accuracy: 0.508\n",
      "Alpha: 0.01, Accuracy: 0.513\n",
      "Alpha: 0.1, Accuracy: 0.518\n",
      "Alpha: 1, Accuracy: 0.551\n",
      "Alpha: 10, Accuracy: 0.648\n"
     ]
    }
   ],
   "source": [
    "# Apply logarithmic transformation on price\n",
    "train_log_price = np.log1p(y_train[\"price\"])\n",
    "val_log_price = np.log1p(y_val[\"price\"])\n",
    "\n",
    "for alpha in [0, 0.01, 0.1, 1, 10]:\n",
    "    # Train ridge regression\n",
    "    model = Ridge(alpha=alpha)\n",
    "    model.fit(X_train, train_log_price)\n",
    "\n",
    "    # Model prediction on validation dataset\n",
    "    y_pred = model.predict(X_val)\n",
    "\n",
    "    # Calcualte the accuarcy on validation dataset\n",
    "    print(\"Alpha: {}, Accuracy: {}\".format(alpha, np.sqrt(mean_squared_error(y_pred, val_log_price)).round(3)))"
   ]
  },
  {
   "cell_type": "markdown",
   "id": "5962edea",
   "metadata": {},
   "source": [
    "**Alpha = 0** leads to the best RMSE on the validation set."
   ]
  },
  {
   "cell_type": "code",
   "execution_count": null,
   "id": "d30888c8",
   "metadata": {},
   "outputs": [],
   "source": []
  }
 ],
 "metadata": {
  "kernelspec": {
   "display_name": "Python 3 (ipykernel)",
   "language": "python",
   "name": "python3"
  },
  "language_info": {
   "codemirror_mode": {
    "name": "ipython",
    "version": 3
   },
   "file_extension": ".py",
   "mimetype": "text/x-python",
   "name": "python",
   "nbconvert_exporter": "python",
   "pygments_lexer": "ipython3",
   "version": "3.9.7"
  }
 },
 "nbformat": 4,
 "nbformat_minor": 5
}
