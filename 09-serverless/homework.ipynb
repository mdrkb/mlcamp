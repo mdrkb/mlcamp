{
 "cells": [
  {
   "cell_type": "markdown",
   "id": "13d7e3e8",
   "metadata": {},
   "source": [
    "# Session #9 Homework"
   ]
  },
  {
   "cell_type": "code",
   "execution_count": 1,
   "id": "b9c70040",
   "metadata": {},
   "outputs": [],
   "source": [
    "# Import necessary libraries\n",
    "import numpy as np\n",
    "import tensorflow as tf\n",
    "from tensorflow import keras\n",
    "import tensorflow.lite as tflite"
   ]
  },
  {
   "cell_type": "markdown",
   "id": "bb9db8b1",
   "metadata": {},
   "source": [
    "## Question 1"
   ]
  },
  {
   "cell_type": "markdown",
   "id": "c48860dc",
   "metadata": {},
   "source": [
    "Convert this model from Keras to TF-Lite format.  \n",
    "What's the size of the converted model?"
   ]
  },
  {
   "cell_type": "code",
   "execution_count": 2,
   "id": "4c043d69",
   "metadata": {},
   "outputs": [
    {
     "name": "stdout",
     "output_type": "stream",
     "text": [
      "INFO:tensorflow:Assets written to: C:\\Users\\mdrak\\AppData\\Local\\Temp\\tmprvau9lhj\\assets\n"
     ]
    },
    {
     "name": "stderr",
     "output_type": "stream",
     "text": [
      "WARNING:absl:Buffer deduplication procedure will be skipped when flatbuffer library is not properly loaded\n"
     ]
    }
   ],
   "source": [
    "model = keras.models.load_model(\"dogs_cats_10_0.687.h5\")\n",
    "converter = tf.lite.TFLiteConverter.from_keras_model(model)\n",
    "\n",
    "tflite_model = converter.convert()\n",
    "\n",
    "with open(\"dogs_cats_10_0.687.tflite\", \"wb\") as f_out:\n",
    "    f_out.write(tflite_model)"
   ]
  },
  {
   "cell_type": "code",
   "execution_count": 3,
   "id": "1776f221",
   "metadata": {},
   "outputs": [
    {
     "name": "stdout",
     "output_type": "stream",
     "text": [
      " Volume in drive D is Files\n",
      " Volume Serial Number is 5850-A0F0\n",
      "\n",
      " Directory of D:\\Development\\mlcamp\\09-serverless\n",
      "\n",
      "29 Nov 2021  00:52    <DIR>          .\n",
      "28 Nov 2021  15:42    <DIR>          ..\n",
      "28 Nov 2021  18:58    <DIR>          .ipynb_checkpoints\n",
      "28 Nov 2021  15:43        89.758.304 dogs_cats_10_0.687.h5\n",
      "29 Nov 2021  00:52        44.865.956 dogs_cats_10_0.687.tflite\n",
      "29 Nov 2021  00:52            10.521 homework.ipynb\n",
      "28 Nov 2021  15:43             4.559 homework.md\n",
      "28 Nov 2021  23:51            99.389 Pug_600.jpg\n",
      "               5 File(s)    134.738.729 bytes\n",
      "               3 Dir(s)  30.448.893.952 bytes free\n"
     ]
    }
   ],
   "source": [
    "ls"
   ]
  },
  {
   "cell_type": "markdown",
   "id": "8494e545",
   "metadata": {},
   "source": [
    "The size of the converted model is approximately **43MB**."
   ]
  },
  {
   "cell_type": "markdown",
   "id": "4f25339f",
   "metadata": {},
   "source": [
    "## Question 2"
   ]
  },
  {
   "cell_type": "markdown",
   "id": "644f7b78",
   "metadata": {},
   "source": [
    "To be able to use this model, we need to know the index of the input and the index of the output.  \n",
    "What's the output index for this model?"
   ]
  },
  {
   "cell_type": "code",
   "execution_count": 4,
   "id": "82b4da74",
   "metadata": {},
   "outputs": [
    {
     "name": "stdout",
     "output_type": "stream",
     "text": [
      "Input index: 0, Output index: 13\n"
     ]
    }
   ],
   "source": [
    "interpreter = tflite.Interpreter(model_path=\"dogs_cats_10_0.687.tflite\")\n",
    "interpreter.allocate_tensors()\n",
    "\n",
    "input_index = interpreter.get_input_details()[0][\"index\"]\n",
    "output_index = interpreter.get_output_details()[0][\"index\"]\n",
    "\n",
    "print(f\"Input index: {input_index}, Output index: {output_index}\")"
   ]
  },
  {
   "cell_type": "markdown",
   "id": "0abb14e8",
   "metadata": {},
   "source": [
    "Output index is **13**."
   ]
  },
  {
   "cell_type": "markdown",
   "id": "6a0d1e90",
   "metadata": {},
   "source": [
    "## Preparing the Image"
   ]
  },
  {
   "cell_type": "code",
   "execution_count": 5,
   "id": "389c60d1",
   "metadata": {},
   "outputs": [],
   "source": [
    "from io import BytesIO\n",
    "from urllib import request\n",
    "from PIL import Image\n",
    "\n",
    "def download_image(url):\n",
    "    with request.urlopen(url) as resp:\n",
    "        buffer = resp.read()\n",
    "    stream = BytesIO(buffer)\n",
    "    img = Image.open(stream)\n",
    "    return img\n",
    "\n",
    "def prepare_image(img, target_size):\n",
    "    if img.mode != \"RGB\":\n",
    "        img = img.convert(\"RGB\")\n",
    "    img = img.resize(target_size, Image.NEAREST)\n",
    "    return img"
   ]
  },
  {
   "cell_type": "markdown",
   "id": "1b70f570",
   "metadata": {},
   "source": [
    "The target size of the image should be **(150,150)**."
   ]
  },
  {
   "cell_type": "code",
   "execution_count": 6,
   "id": "7b16c5e0",
   "metadata": {},
   "outputs": [],
   "source": [
    "url = \"https://upload.wikimedia.org/wikipedia/commons/9/9a/Pug_600.jpg\"\n",
    "downloaded_image = download_image(url)\n",
    "prepared_image = prepare_image(downloaded_image, (150,150))"
   ]
  },
  {
   "cell_type": "markdown",
   "id": "0f0c782a",
   "metadata": {},
   "source": [
    "## Question 3"
   ]
  },
  {
   "cell_type": "markdown",
   "id": "7365f421",
   "metadata": {},
   "source": [
    "Now we need to turn the image into an numpy array and pre-process it.  \n",
    "After the pre-processing, what's the value in the first pixel, the R channel?"
   ]
  },
  {
   "cell_type": "code",
   "execution_count": 30,
   "id": "b45c2fcb",
   "metadata": {},
   "outputs": [],
   "source": [
    "def preprocess_input(x):\n",
    "    x /= 127.5\n",
    "    x -= 1.\n",
    "    return x"
   ]
  },
  {
   "cell_type": "code",
   "execution_count": 31,
   "id": "90e4247c",
   "metadata": {},
   "outputs": [],
   "source": [
    "x = np.array(prepared_image, dtype=\"float32\")\n",
    "X = np.array([x])\n",
    "X = preprocess_input(X)"
   ]
  },
  {
   "cell_type": "code",
   "execution_count": 32,
   "id": "429ca2d7",
   "metadata": {},
   "outputs": [
    {
     "data": {
      "text/plain": [
       "array([[[[ 0.41176474,  0.54509807,  0.49803925],\n",
       "         [ 0.38823533,  0.52156866,  0.45882356],\n",
       "         [ 0.26274514,  0.39607847,  0.33333337],\n",
       "         ...,\n",
       "         [ 0.5372549 ,  0.69411767,  0.6784314 ],\n",
       "         [ 0.36470592,  0.4901961 ,  0.4901961 ],\n",
       "         [ 0.36470592,  0.5294118 ,  0.5372549 ]],\n",
       "\n",
       "        [[ 0.05098045,  0.18431377,  0.13725495],\n",
       "         [ 0.47450984,  0.60784316,  0.56078434],\n",
       "         [ 0.21568632,  0.34901965,  0.28627455],\n",
       "         ...,\n",
       "         [ 0.58431375,  0.73333335,  0.7176471 ],\n",
       "         [ 0.26274514,  0.4039216 ,  0.2941177 ],\n",
       "         [ 0.5764706 ,  0.75686276,  0.70980394]],\n",
       "\n",
       "        [[ 0.37254906,  0.49803925,  0.47450984],\n",
       "         [ 0.23921573,  0.37254906,  0.32549024],\n",
       "         [ 0.2941177 ,  0.427451  ,  0.36470592],\n",
       "         ...,\n",
       "         [ 0.20000005,  0.3176471 ,  0.2941177 ],\n",
       "         [ 0.254902  ,  0.38823533,  0.30980396],\n",
       "         [ 0.41176474,  0.58431375,  0.56078434]],\n",
       "\n",
       "        ...,\n",
       "\n",
       "        [[ 0.16078436,  0.23921573,  0.17647064],\n",
       "         [-0.01960784,  0.05098045,  0.01176476],\n",
       "         [ 0.13725495,  0.20784318,  0.18431377],\n",
       "         ...,\n",
       "         [ 0.16078436,  0.18431377,  0.09803927],\n",
       "         [-0.04313725, -0.02745098, -0.11372548],\n",
       "         [-0.3960784 , -0.3333333 , -0.4352941 ]],\n",
       "\n",
       "        [[-0.04313725,  0.0196079 , -0.08235294],\n",
       "         [-0.04313725,  0.01176476, -0.05098039],\n",
       "         [ 0.20784318,  0.254902  ,  0.22352946],\n",
       "         ...,\n",
       "         [ 0.49803925,  0.48235297,  0.3803922 ],\n",
       "         [-0.64705884, -0.6392157 , -0.7647059 ],\n",
       "         [-0.21568626, -0.16862744, -0.27843136]],\n",
       "\n",
       "        [[ 0.15294123,  0.15294123,  0.07450986],\n",
       "         [ 0.4901961 ,  0.4431373 ,  0.34901965],\n",
       "         [-0.00392157,  0.06666672,  0.04313731],\n",
       "         ...,\n",
       "         [ 0.14509809,  0.20000005,  0.13725495],\n",
       "         [-0.19999999, -0.1607843 , -0.21568626],\n",
       "         [-0.12941176, -0.09019607, -0.14509803]]]], dtype=float32)"
      ]
     },
     "execution_count": 32,
     "metadata": {},
     "output_type": "execute_result"
    }
   ],
   "source": [
    "X"
   ]
  },
  {
   "cell_type": "code",
   "execution_count": null,
   "id": "32f72b84",
   "metadata": {},
   "outputs": [],
   "source": []
  },
  {
   "cell_type": "markdown",
   "id": "d1757deb",
   "metadata": {},
   "source": [
    "## Question 4"
   ]
  },
  {
   "cell_type": "markdown",
   "id": "0f4e368e",
   "metadata": {},
   "source": [
    "Now let's apply this model to this image. What's the output of the model?"
   ]
  },
  {
   "cell_type": "code",
   "execution_count": 10,
   "id": "899fa33a",
   "metadata": {},
   "outputs": [
    {
     "data": {
      "text/plain": [
       "array([[0.97000027]], dtype=float32)"
      ]
     },
     "execution_count": 10,
     "metadata": {},
     "output_type": "execute_result"
    }
   ],
   "source": [
    "interpreter.set_tensor(input_index, X)\n",
    "interpreter.invoke()\n",
    "preds = interpreter.get_tensor(output_index)\n",
    "preds"
   ]
  },
  {
   "cell_type": "markdown",
   "id": "c85029e5",
   "metadata": {},
   "source": [
    "Prediction of the model is **0.97**."
   ]
  },
  {
   "cell_type": "code",
   "execution_count": null,
   "id": "936a5cb1",
   "metadata": {},
   "outputs": [],
   "source": []
  },
  {
   "cell_type": "code",
   "execution_count": null,
   "id": "0d6cebdb",
   "metadata": {},
   "outputs": [],
   "source": []
  }
 ],
 "metadata": {
  "kernelspec": {
   "display_name": "Python 3 (ipykernel)",
   "language": "python",
   "name": "python3"
  },
  "language_info": {
   "codemirror_mode": {
    "name": "ipython",
    "version": 3
   },
   "file_extension": ".py",
   "mimetype": "text/x-python",
   "name": "python",
   "nbconvert_exporter": "python",
   "pygments_lexer": "ipython3",
   "version": "3.9.9"
  }
 },
 "nbformat": 4,
 "nbformat_minor": 5
}
