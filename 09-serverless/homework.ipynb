{
 "cells": [
  {
   "cell_type": "markdown",
   "id": "13d7e3e8",
   "metadata": {},
   "source": [
    "# Session #9 Homework"
   ]
  },
  {
   "cell_type": "code",
   "execution_count": 1,
   "id": "b9c70040",
   "metadata": {},
   "outputs": [],
   "source": [
    "# Import necessary libraries\n",
    "import numpy as np\n",
    "import tensorflow as tf\n",
    "from tensorflow import keras\n",
    "import tensorflow.lite as tflite\n",
    "from tensorflow.keras.preprocessing.image import ImageDataGenerator"
   ]
  },
  {
   "cell_type": "markdown",
   "id": "bb9db8b1",
   "metadata": {},
   "source": [
    "## Question 1"
   ]
  },
  {
   "cell_type": "markdown",
   "id": "c48860dc",
   "metadata": {},
   "source": [
    "Convert this model from Keras to TF-Lite format.  \n",
    "What's the size of the converted model?"
   ]
  },
  {
   "cell_type": "code",
   "execution_count": 2,
   "id": "4c043d69",
   "metadata": {},
   "outputs": [
    {
     "name": "stdout",
     "output_type": "stream",
     "text": [
      "INFO:tensorflow:Assets written to: C:\\Users\\mdrak\\AppData\\Local\\Temp\\tmptb7ynh0p\\assets\n"
     ]
    },
    {
     "name": "stderr",
     "output_type": "stream",
     "text": [
      "WARNING:absl:Buffer deduplication procedure will be skipped when flatbuffer library is not properly loaded\n"
     ]
    }
   ],
   "source": [
    "model = keras.models.load_model(\"dogs_cats_10_0.687.h5\")\n",
    "converter = tf.lite.TFLiteConverter.from_keras_model(model)\n",
    "\n",
    "tflite_model = converter.convert()\n",
    "\n",
    "with open(\"dogs_cats_10_0.687.tflite\", \"wb\") as f_out:\n",
    "    f_out.write(tflite_model)"
   ]
  },
  {
   "cell_type": "code",
   "execution_count": 3,
   "id": "1776f221",
   "metadata": {},
   "outputs": [
    {
     "name": "stdout",
     "output_type": "stream",
     "text": [
      " Volume in drive D is Files\n",
      " Volume Serial Number is 5850-A0F0\n",
      "\n",
      " Directory of D:\\Development\\mlcamp\\09-serverless\n",
      "\n",
      "29 Nov 2021  23:35    <DIR>          .\n",
      "28 Nov 2021  15:42    <DIR>          ..\n",
      "28 Nov 2021  18:58    <DIR>          .ipynb_checkpoints\n",
      "29 Nov 2021  19:39               287 Dockerfile\n",
      "28 Nov 2021  15:43        89.758.304 dogs_cats_10_0.687.h5\n",
      "29 Nov 2021  23:35        44.865.956 dogs_cats_10_0.687.tflite\n",
      "29 Nov 2021  23:35             8.095 homework.ipynb\n",
      "28 Nov 2021  15:43             4.559 homework.md\n",
      "29 Nov 2021  19:48             1.337 lambda_function.py\n",
      "               6 File(s)    134.638.538 bytes\n",
      "               3 Dir(s)  30.332.022.784 bytes free\n"
     ]
    }
   ],
   "source": [
    "ls"
   ]
  },
  {
   "cell_type": "markdown",
   "id": "8494e545",
   "metadata": {},
   "source": [
    "The size of the converted model is approximately **43MB**."
   ]
  },
  {
   "cell_type": "markdown",
   "id": "4f25339f",
   "metadata": {},
   "source": [
    "## Question 2"
   ]
  },
  {
   "cell_type": "markdown",
   "id": "644f7b78",
   "metadata": {},
   "source": [
    "To be able to use this model, we need to know the index of the input and the index of the output.  \n",
    "What's the output index for this model?"
   ]
  },
  {
   "cell_type": "code",
   "execution_count": 4,
   "id": "82b4da74",
   "metadata": {},
   "outputs": [
    {
     "name": "stdout",
     "output_type": "stream",
     "text": [
      "Input index: 0, Output index: 13\n"
     ]
    }
   ],
   "source": [
    "interpreter = tflite.Interpreter(model_path=\"dogs_cats_10_0.687.tflite\")\n",
    "interpreter.allocate_tensors()\n",
    "\n",
    "input_index = interpreter.get_input_details()[0][\"index\"]\n",
    "output_index = interpreter.get_output_details()[0][\"index\"]\n",
    "\n",
    "print(f\"Input index: {input_index}, Output index: {output_index}\")"
   ]
  },
  {
   "cell_type": "markdown",
   "id": "0abb14e8",
   "metadata": {},
   "source": [
    "Output index is **13**."
   ]
  },
  {
   "cell_type": "markdown",
   "id": "6a0d1e90",
   "metadata": {},
   "source": [
    "## Preparing the Image"
   ]
  },
  {
   "cell_type": "code",
   "execution_count": 5,
   "id": "389c60d1",
   "metadata": {},
   "outputs": [],
   "source": [
    "from io import BytesIO\n",
    "from urllib import request\n",
    "from PIL import Image\n",
    "\n",
    "def download_image(url):\n",
    "    with request.urlopen(url) as resp:\n",
    "        buffer = resp.read()\n",
    "    stream = BytesIO(buffer)\n",
    "    img = Image.open(stream)\n",
    "    return img\n",
    "\n",
    "def prepare_image(img, target_size):\n",
    "    if img.mode != \"RGB\":\n",
    "        img = img.convert(\"RGB\")\n",
    "    img = img.resize(target_size, Image.NEAREST)\n",
    "    return img"
   ]
  },
  {
   "cell_type": "markdown",
   "id": "1b70f570",
   "metadata": {},
   "source": [
    "The target size of the image should be **(150,150)**."
   ]
  },
  {
   "cell_type": "code",
   "execution_count": 6,
   "id": "7b16c5e0",
   "metadata": {},
   "outputs": [],
   "source": [
    "url = \"https://upload.wikimedia.org/wikipedia/commons/9/9a/Pug_600.jpg\"\n",
    "downloaded_image = download_image(url)\n",
    "prepared_image = prepare_image(downloaded_image, (150,150))"
   ]
  },
  {
   "cell_type": "markdown",
   "id": "0f0c782a",
   "metadata": {},
   "source": [
    "## Question 3"
   ]
  },
  {
   "cell_type": "markdown",
   "id": "7365f421",
   "metadata": {},
   "source": [
    "Now we need to turn the image into an numpy array and pre-process it.  \n",
    "After the pre-processing, what's the value in the first pixel, the R channel?"
   ]
  },
  {
   "cell_type": "code",
   "execution_count": 7,
   "id": "90e4247c",
   "metadata": {},
   "outputs": [],
   "source": [
    "x = np.array(prepared_image, dtype=\"float32\")\n",
    "x = np.array([x])\n",
    "\n",
    "datagen = ImageDataGenerator(rescale=1./255)\n",
    "X = datagen.flow(x, batch_size=1)\n",
    "X = X.next()"
   ]
  },
  {
   "cell_type": "code",
   "execution_count": 8,
   "id": "429ca2d7",
   "metadata": {},
   "outputs": [
    {
     "data": {
      "text/plain": [
       "array([0.7058824, 0.7725491, 0.7490196], dtype=float32)"
      ]
     },
     "execution_count": 8,
     "metadata": {},
     "output_type": "execute_result"
    }
   ],
   "source": [
    "X[0][0][0]"
   ]
  },
  {
   "cell_type": "markdown",
   "id": "a60afe0e",
   "metadata": {},
   "source": [
    "The value of the first pixel is **0.7058824**."
   ]
  },
  {
   "cell_type": "markdown",
   "id": "d1757deb",
   "metadata": {},
   "source": [
    "## Question 4"
   ]
  },
  {
   "cell_type": "markdown",
   "id": "0f4e368e",
   "metadata": {},
   "source": [
    "Now let's apply this model to this image. What's the output of the model?"
   ]
  },
  {
   "cell_type": "code",
   "execution_count": 9,
   "id": "899fa33a",
   "metadata": {},
   "outputs": [
    {
     "data": {
      "text/plain": [
       "0.769909143447876"
      ]
     },
     "execution_count": 9,
     "metadata": {},
     "output_type": "execute_result"
    }
   ],
   "source": [
    "interpreter.set_tensor(input_index, X)\n",
    "interpreter.invoke()\n",
    "preds = interpreter.get_tensor(output_index)\n",
    "preds[0].tolist()[0]"
   ]
  },
  {
   "cell_type": "markdown",
   "id": "c85029e5",
   "metadata": {},
   "source": [
    "Prediction of the model is **0.7699**."
   ]
  },
  {
   "cell_type": "code",
   "execution_count": null,
   "id": "321b9a34",
   "metadata": {},
   "outputs": [],
   "source": []
  }
 ],
 "metadata": {
  "kernelspec": {
   "display_name": "Python 3 (ipykernel)",
   "language": "python",
   "name": "python3"
  },
  "language_info": {
   "codemirror_mode": {
    "name": "ipython",
    "version": 3
   },
   "file_extension": ".py",
   "mimetype": "text/x-python",
   "name": "python",
   "nbconvert_exporter": "python",
   "pygments_lexer": "ipython3",
   "version": "3.9.9"
  }
 },
 "nbformat": 4,
 "nbformat_minor": 5
}
