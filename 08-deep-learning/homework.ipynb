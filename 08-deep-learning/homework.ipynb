{
 "cells": [
  {
   "cell_type": "markdown",
   "id": "b9f32868",
   "metadata": {},
   "source": [
    "# Session #8 Homework"
   ]
  },
  {
   "cell_type": "code",
   "execution_count": 1,
   "id": "332ceb4a",
   "metadata": {},
   "outputs": [],
   "source": [
    "# Import necessary libraries\n",
    "import numpy as np\n",
    "import matplotlib.pyplot as plt\n",
    "import tensorflow as tf\n",
    "from tensorflow.keras import datasets, layers, models\n",
    "from tensorflow.keras.preprocessing.image import ImageDataGenerator\n",
    "\n",
    "%matplotlib inline"
   ]
  },
  {
   "cell_type": "markdown",
   "id": "141c679d",
   "metadata": {},
   "source": [
    "## Model"
   ]
  },
  {
   "cell_type": "code",
   "execution_count": 2,
   "id": "6efc2f2e",
   "metadata": {},
   "outputs": [],
   "source": [
    "# Create the convolutional base\n",
    "model = models.Sequential()\n",
    "model.add(layers.Conv2D(32, (3, 3), activation=\"relu\", input_shape=(150, 150, 3)))\n",
    "model.add(layers.MaxPooling2D((2, 2)))\n",
    "\n",
    "# Add Dense layers on top\n",
    "model.add(layers.Flatten())\n",
    "model.add(layers.Dense(64, activation=\"relu\"))\n",
    "model.add(layers.Dense(1, activation=\"sigmoid\"))"
   ]
  },
  {
   "cell_type": "code",
   "execution_count": 3,
   "id": "a1955d31",
   "metadata": {},
   "outputs": [],
   "source": [
    "optimizer = tf.keras.optimizers.SGD(learning_rate=0.002, momentum=0.8)\n",
    "loss = tf.keras.losses.BinaryCrossentropy()\n",
    "\n",
    "model.compile(optimizer=optimizer, loss=loss, metrics=[\"accuracy\"])"
   ]
  },
  {
   "cell_type": "markdown",
   "id": "50ffa311",
   "metadata": {},
   "source": [
    "## Question 1"
   ]
  },
  {
   "cell_type": "markdown",
   "id": "3dd608ae",
   "metadata": {},
   "source": [
    "Since we have a binary classification problem, what is the best loss function for us?"
   ]
  },
  {
   "cell_type": "markdown",
   "id": "18a49dde",
   "metadata": {},
   "source": [
    "`BinaryCrossentropy` is the best loss function for our problem."
   ]
  },
  {
   "cell_type": "markdown",
   "id": "4fe5180b",
   "metadata": {},
   "source": [
    "## Question 2"
   ]
  },
  {
   "cell_type": "markdown",
   "id": "dcb1719a",
   "metadata": {},
   "source": [
    "What's the total number of parameters of the model?"
   ]
  },
  {
   "cell_type": "code",
   "execution_count": 4,
   "id": "9025b7f6",
   "metadata": {},
   "outputs": [
    {
     "name": "stdout",
     "output_type": "stream",
     "text": [
      "Model: \"sequential\"\n",
      "_________________________________________________________________\n",
      " Layer (type)                Output Shape              Param #   \n",
      "=================================================================\n",
      " conv2d (Conv2D)             (None, 148, 148, 32)      896       \n",
      "                                                                 \n",
      " max_pooling2d (MaxPooling2D  (None, 74, 74, 32)       0         \n",
      " )                                                               \n",
      "                                                                 \n",
      " flatten (Flatten)           (None, 175232)            0         \n",
      "                                                                 \n",
      " dense (Dense)               (None, 64)                11214912  \n",
      "                                                                 \n",
      " dense_1 (Dense)             (None, 1)                 65        \n",
      "                                                                 \n",
      "=================================================================\n",
      "Total params: 11,215,873\n",
      "Trainable params: 11,215,873\n",
      "Non-trainable params: 0\n",
      "_________________________________________________________________\n"
     ]
    }
   ],
   "source": [
    "model.summary()"
   ]
  },
  {
   "cell_type": "markdown",
   "id": "0eb22b53",
   "metadata": {},
   "source": [
    "Total number of parameters of the model is `11,215,873`."
   ]
  },
  {
   "cell_type": "markdown",
   "id": "27e80d14",
   "metadata": {},
   "source": [
    "## Generators and Training"
   ]
  },
  {
   "cell_type": "code",
   "execution_count": 5,
   "id": "950fa10f",
   "metadata": {},
   "outputs": [
    {
     "name": "stdout",
     "output_type": "stream",
     "text": [
      "Found 20000 images belonging to 2 classes.\n"
     ]
    }
   ],
   "source": [
    "train_gen = ImageDataGenerator(rescale=1./255)\n",
    "\n",
    "train_ds = train_gen.flow_from_directory(\n",
    "    \"./train\",\n",
    "    target_size=(150, 150),\n",
    "    batch_size=20,\n",
    "    class_mode=\"binary\",\n",
    "    shuffle=True\n",
    ")"
   ]
  },
  {
   "cell_type": "code",
   "execution_count": 6,
   "id": "d4248aed",
   "metadata": {},
   "outputs": [
    {
     "data": {
      "text/plain": [
       "{'cats': 0, 'dogs': 1}"
      ]
     },
     "execution_count": 6,
     "metadata": {},
     "output_type": "execute_result"
    }
   ],
   "source": [
    "train_ds.class_indices"
   ]
  },
  {
   "cell_type": "code",
   "execution_count": 7,
   "id": "a33e9e0a",
   "metadata": {},
   "outputs": [
    {
     "name": "stdout",
     "output_type": "stream",
     "text": [
      "Found 5000 images belonging to 2 classes.\n"
     ]
    }
   ],
   "source": [
    "val_gen = ImageDataGenerator(rescale=1./255)\n",
    "\n",
    "val_ds = val_gen.flow_from_directory(\n",
    "    \"./validation\",\n",
    "    target_size=(150, 150),\n",
    "    batch_size=20,\n",
    "    class_mode=\"binary\",\n",
    "    shuffle=True\n",
    ")"
   ]
  },
  {
   "cell_type": "code",
   "execution_count": 8,
   "id": "598001db",
   "metadata": {},
   "outputs": [
    {
     "name": "stdout",
     "output_type": "stream",
     "text": [
      "Epoch 1/10\n",
      "100/100 [==============================] - 25s 248ms/step - loss: 0.6945 - accuracy: 0.5380 - val_loss: 0.6829 - val_accuracy: 0.5790\n",
      "Epoch 2/10\n",
      "100/100 [==============================] - 25s 251ms/step - loss: 0.6845 - accuracy: 0.5460 - val_loss: 0.6793 - val_accuracy: 0.5550\n",
      "Epoch 3/10\n",
      "100/100 [==============================] - 25s 246ms/step - loss: 0.6801 - accuracy: 0.5650 - val_loss: 0.6732 - val_accuracy: 0.5840\n",
      "Epoch 4/10\n",
      "100/100 [==============================] - 28s 276ms/step - loss: 0.6655 - accuracy: 0.5945 - val_loss: 0.6939 - val_accuracy: 0.5310\n",
      "Epoch 5/10\n",
      "100/100 [==============================] - 32s 319ms/step - loss: 0.6607 - accuracy: 0.5890 - val_loss: 0.6615 - val_accuracy: 0.6100\n",
      "Epoch 6/10\n",
      "100/100 [==============================] - 26s 263ms/step - loss: 0.6636 - accuracy: 0.6070 - val_loss: 0.6418 - val_accuracy: 0.6310\n",
      "Epoch 7/10\n",
      "100/100 [==============================] - 24s 242ms/step - loss: 0.6495 - accuracy: 0.6160 - val_loss: 0.6478 - val_accuracy: 0.6090\n",
      "Epoch 8/10\n",
      "100/100 [==============================] - 28s 279ms/step - loss: 0.6458 - accuracy: 0.6220 - val_loss: 0.6378 - val_accuracy: 0.6220\n",
      "Epoch 9/10\n",
      "100/100 [==============================] - 25s 246ms/step - loss: 0.6445 - accuracy: 0.6235 - val_loss: 0.6349 - val_accuracy: 0.6380\n",
      "Epoch 10/10\n",
      "100/100 [==============================] - 24s 237ms/step - loss: 0.6389 - accuracy: 0.6385 - val_loss: 0.6683 - val_accuracy: 0.5670\n"
     ]
    }
   ],
   "source": [
    "history = model.fit(\n",
    "    train_ds,\n",
    "    steps_per_epoch=100,\n",
    "    epochs=10,\n",
    "    validation_data=val_ds,\n",
    "    validation_steps=50\n",
    ")"
   ]
  },
  {
   "cell_type": "code",
   "execution_count": 9,
   "id": "2ffc4e0f",
   "metadata": {},
   "outputs": [
    {
     "data": {
      "image/png": "[encoded data removed]",
      "text/plain": [
       "<Figure size 432x288 with 1 Axes>"
      ]
     },
     "metadata": {
      "needs_background": "light"
     },
     "output_type": "display_data"
    }
   ],
   "source": [
    "plt.plot(history.history[\"accuracy\"], label=\"train\")\n",
    "plt.plot(history.history[\"val_accuracy\"], label=\"val\")\n",
    "plt.xticks(np.arange(10))\n",
    "plt.legend()\n",
    "plt.show()"
   ]
  },
  {
   "cell_type": "markdown",
   "id": "6d4d8666",
   "metadata": {},
   "source": [
    "## Question 3"
   ]
  },
  {
   "cell_type": "markdown",
   "id": "b0c66ba7",
   "metadata": {},
   "source": [
    "What is the median of training accuracy for this model?"
   ]
  },
  {
   "cell_type": "code",
   "execution_count": 10,
   "id": "36c19f84",
   "metadata": {},
   "outputs": [
    {
     "data": {
      "text/plain": [
       "0.601"
      ]
     },
     "execution_count": 10,
     "metadata": {},
     "output_type": "execute_result"
    }
   ],
   "source": [
    "np.median(history.history[\"accuracy\"]).round(3)"
   ]
  },
  {
   "cell_type": "markdown",
   "id": "4a37b924",
   "metadata": {},
   "source": [
    "## Question 4"
   ]
  },
  {
   "cell_type": "markdown",
   "id": "29b96750",
   "metadata": {},
   "source": [
    "What is the standard deviation of training loss for this model?"
   ]
  },
  {
   "cell_type": "code",
   "execution_count": 11,
   "id": "6ea455e8",
   "metadata": {},
   "outputs": [
    {
     "data": {
      "text/plain": [
       "0.018"
      ]
     },
     "execution_count": 11,
     "metadata": {},
     "output_type": "execute_result"
    }
   ],
   "source": [
    "np.std(history.history[\"loss\"]).round(3)"
   ]
  },
  {
   "cell_type": "markdown",
   "id": "60269b7d",
   "metadata": {},
   "source": [
    "## Data Augmentation"
   ]
  },
  {
   "cell_type": "code",
   "execution_count": 12,
   "id": "256e953b",
   "metadata": {},
   "outputs": [
    {
     "name": "stdout",
     "output_type": "stream",
     "text": [
      "Found 20000 images belonging to 2 classes.\n"
     ]
    }
   ],
   "source": [
    "train_gen_aug = ImageDataGenerator(\n",
    "    rescale=1./255,\n",
    "    rotation_range=40,\n",
    "    width_shift_range=0.2,\n",
    "    height_shift_range=0.2,\n",
    "    shear_range=0.2,\n",
    "    zoom_range=0.2,\n",
    "    horizontal_flip=True,\n",
    "    fill_mode=\"nearest\"\n",
    ")\n",
    "\n",
    "train_ds_aug = train_gen_aug.flow_from_directory(\n",
    "    \"./train\",\n",
    "    target_size=(150, 150),\n",
    "    batch_size=20,\n",
    "    class_mode=\"binary\",\n",
    "    shuffle=True\n",
    ")"
   ]
  },
  {
   "cell_type": "code",
   "execution_count": 13,
   "id": "30e4aafc",
   "metadata": {},
   "outputs": [
    {
     "name": "stdout",
     "output_type": "stream",
     "text": [
      "Epoch 1/10\n",
      "100/100 [==============================] - 29s 293ms/step - loss: 0.6648 - accuracy: 0.5970 - val_loss: 0.6266 - val_accuracy: 0.6600\n",
      "Epoch 2/10\n",
      "100/100 [==============================] - 29s 293ms/step - loss: 0.6640 - accuracy: 0.5990 - val_loss: 0.6313 - val_accuracy: 0.6220\n",
      "Epoch 3/10\n",
      "100/100 [==============================] - 29s 294ms/step - loss: 0.6561 - accuracy: 0.5980 - val_loss: 0.6275 - val_accuracy: 0.6440\n",
      "Epoch 4/10\n",
      "100/100 [==============================] - 29s 295ms/step - loss: 0.6596 - accuracy: 0.5910 - val_loss: 0.6361 - val_accuracy: 0.6090\n",
      "Epoch 5/10\n",
      "100/100 [==============================] - 29s 291ms/step - loss: 0.6549 - accuracy: 0.6040 - val_loss: 0.6099 - val_accuracy: 0.6820\n",
      "Epoch 6/10\n",
      "100/100 [==============================] - 29s 294ms/step - loss: 0.6506 - accuracy: 0.6015 - val_loss: 0.6463 - val_accuracy: 0.6020\n",
      "Epoch 7/10\n",
      "100/100 [==============================] - 29s 293ms/step - loss: 0.6529 - accuracy: 0.6305 - val_loss: 0.6198 - val_accuracy: 0.6570\n",
      "Epoch 8/10\n",
      "100/100 [==============================] - 29s 294ms/step - loss: 0.6513 - accuracy: 0.6040 - val_loss: 0.6790 - val_accuracy: 0.5680\n",
      "Epoch 9/10\n",
      "100/100 [==============================] - 29s 290ms/step - loss: 0.6480 - accuracy: 0.6300 - val_loss: 0.6106 - val_accuracy: 0.6800\n",
      "Epoch 10/10\n",
      "100/100 [==============================] - 29s 293ms/step - loss: 0.6420 - accuracy: 0.6235 - val_loss: 0.6244 - val_accuracy: 0.6360\n"
     ]
    }
   ],
   "source": [
    "history_aug = model.fit(\n",
    "    train_ds_aug,\n",
    "    steps_per_epoch=100,\n",
    "    epochs=10,\n",
    "    validation_data=val_ds,\n",
    "    validation_steps=50\n",
    ")"
   ]
  },
  {
   "cell_type": "markdown",
   "id": "6301a833",
   "metadata": {},
   "source": [
    "## Question 5"
   ]
  },
  {
   "cell_type": "markdown",
   "id": "1092355c",
   "metadata": {},
   "source": [
    "What is the mean of validation loss for the model trained with augmentations?"
   ]
  },
  {
   "cell_type": "code",
   "execution_count": 14,
   "id": "7086b3dd",
   "metadata": {},
   "outputs": [
    {
     "data": {
      "text/plain": [
       "0.631"
      ]
     },
     "execution_count": 14,
     "metadata": {},
     "output_type": "execute_result"
    }
   ],
   "source": [
    "np.mean(history_aug.history[\"val_loss\"]).round(3)"
   ]
  },
  {
   "cell_type": "markdown",
   "id": "560400d9",
   "metadata": {},
   "source": [
    "## Question 6"
   ]
  },
  {
   "cell_type": "markdown",
   "id": "333a268b",
   "metadata": {},
   "source": [
    "What's the average of validation accuracy for the last 5 epochs (from 6 to 10) for the model trained with augmentations?"
   ]
  },
  {
   "cell_type": "code",
   "execution_count": 15,
   "id": "74087e95",
   "metadata": {},
   "outputs": [
    {
     "data": {
      "text/plain": [
       "0.629"
      ]
     },
     "execution_count": 15,
     "metadata": {},
     "output_type": "execute_result"
    }
   ],
   "source": [
    "np.mean(history_aug.history[\"val_accuracy\"][5:]).round(3)"
   ]
  },
  {
   "cell_type": "code",
   "execution_count": null,
   "id": "170e1269",
   "metadata": {},
   "outputs": [],
   "source": []
  }
 ],
 "metadata": {
  "kernelspec": {
   "display_name": "Python 3 (ipykernel)",
   "language": "python",
   "name": "python3"
  },
  "language_info": {
   "codemirror_mode": {
    "name": "ipython",
    "version": 3
   },
   "file_extension": ".py",
   "mimetype": "text/x-python",
   "name": "python",
   "nbconvert_exporter": "python",
   "pygments_lexer": "ipython3",
   "version": "3.9.9"
  }
 },
 "nbformat": 4,
 "nbformat_minor": 5
}
