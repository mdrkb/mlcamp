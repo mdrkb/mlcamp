{
 "cells": [
  {
   "cell_type": "markdown",
   "id": "8a137db2",
   "metadata": {},
   "source": [
    "# Session #2 Homework"
   ]
  },
  {
   "cell_type": "code",
   "execution_count": 1,
   "id": "3e348994",
   "metadata": {},
   "outputs": [],
   "source": [
    "import numpy as np\n",
    "import pandas as pd\n",
    "from matplotlib import pyplot as plt\n",
    "import seaborn as sns\n",
    "%matplotlib inline"
   ]
  },
  {
   "cell_type": "code",
   "execution_count": 2,
   "id": "fd5b82e5",
   "metadata": {},
   "outputs": [],
   "source": [
    "# Load dataset\n",
    "df = pd.read_csv(\"AB_NYC_2019.csv\").reset_index()"
   ]
  },
  {
   "cell_type": "markdown",
   "id": "6b90c80f",
   "metadata": {},
   "source": [
    "## EDA"
   ]
  },
  {
   "cell_type": "code",
   "execution_count": 3,
   "id": "cf912e34",
   "metadata": {},
   "outputs": [
    {
     "data": {
      "image/png": "[encoded data removed]",
      "text/plain": [
       "<Figure size 432x288 with 1 Axes>"
      ]
     },
     "metadata": {
      "needs_background": "light"
     },
     "output_type": "display_data"
    }
   ],
   "source": [
    "price = df[\"price\"][df[\"price\"]<=2000]\n",
    "sns.histplot(price, bins=50)\n",
    "plt.title(\"Price distribution\")\n",
    "plt.show()"
   ]
  },
  {
   "cell_type": "markdown",
   "id": "678afdf7",
   "metadata": {},
   "source": [
    "From the price histogram we can see that the distribution is right skewed."
   ]
  },
  {
   "cell_type": "code",
   "execution_count": 4,
   "id": "1ab0a54b",
   "metadata": {},
   "outputs": [
    {
     "data": {
      "image/png": "[encoded data removed]",
      "text/plain": [
       "<Figure size 432x288 with 1 Axes>"
      ]
     },
     "metadata": {
      "needs_background": "light"
     },
     "output_type": "display_data"
    }
   ],
   "source": [
    "log_price = np.log1p(price)\n",
    "sns.histplot(log_price, bins=50)\n",
    "plt.title(\"Price distribution\")\n",
    "plt.show()"
   ]
  },
  {
   "cell_type": "markdown",
   "id": "4c3c494b",
   "metadata": {},
   "source": [
    "After taking the log of prices, the histogram looks like a normal distribution."
   ]
  },
  {
   "cell_type": "markdown",
   "id": "e568edba",
   "metadata": {},
   "source": [
    "## Features"
   ]
  },
  {
   "cell_type": "code",
   "execution_count": 5,
   "id": "7881a57c",
   "metadata": {},
   "outputs": [],
   "source": [
    "# Only select specified columns\n",
    "columns = [\"latitude\", \"longitude\", \"price\", \"minimum_nights\", \"number_of_reviews\", \"reviews_per_month\", \"calculated_host_listings_count\", \"availability_365\"]\n",
    "df = df[columns]"
   ]
  },
  {
   "cell_type": "code",
   "execution_count": 6,
   "id": "2c849f5f",
   "metadata": {},
   "outputs": [
    {
     "data": {
      "text/html": [
       "<div>\n",
       "<style scoped>\n",
       "    .dataframe tbody tr th:only-of-type {\n",
       "        vertical-align: middle;\n",
       "    }\n",
       "\n",
       "    .dataframe tbody tr th {\n",
       "        vertical-align: top;\n",
       "    }\n",
       "\n",
       "    .dataframe thead th {\n",
       "        text-align: right;\n",
       "    }\n",
       "</style>\n",
       "<table border=\"1\" class=\"dataframe\">\n",
       "  <thead>\n",
       "    <tr style=\"text-align: right;\">\n",
       "      <th></th>\n",
       "      <th>latitude</th>\n",
       "      <th>longitude</th>\n",
       "      <th>price</th>\n",
       "      <th>minimum_nights</th>\n",
       "      <th>number_of_reviews</th>\n",
       "      <th>reviews_per_month</th>\n",
       "      <th>calculated_host_listings_count</th>\n",
       "      <th>availability_365</th>\n",
       "    </tr>\n",
       "  </thead>\n",
       "  <tbody>\n",
       "    <tr>\n",
       "      <th>0</th>\n",
       "      <td>40.64749</td>\n",
       "      <td>-73.97237</td>\n",
       "      <td>149</td>\n",
       "      <td>1</td>\n",
       "      <td>9</td>\n",
       "      <td>0.21</td>\n",
       "      <td>6</td>\n",
       "      <td>365</td>\n",
       "    </tr>\n",
       "    <tr>\n",
       "      <th>1</th>\n",
       "      <td>40.75362</td>\n",
       "      <td>-73.98377</td>\n",
       "      <td>225</td>\n",
       "      <td>1</td>\n",
       "      <td>45</td>\n",
       "      <td>0.38</td>\n",
       "      <td>2</td>\n",
       "      <td>355</td>\n",
       "    </tr>\n",
       "    <tr>\n",
       "      <th>2</th>\n",
       "      <td>40.80902</td>\n",
       "      <td>-73.94190</td>\n",
       "      <td>150</td>\n",
       "      <td>3</td>\n",
       "      <td>0</td>\n",
       "      <td>NaN</td>\n",
       "      <td>1</td>\n",
       "      <td>365</td>\n",
       "    </tr>\n",
       "    <tr>\n",
       "      <th>3</th>\n",
       "      <td>40.68514</td>\n",
       "      <td>-73.95976</td>\n",
       "      <td>89</td>\n",
       "      <td>1</td>\n",
       "      <td>270</td>\n",
       "      <td>4.64</td>\n",
       "      <td>1</td>\n",
       "      <td>194</td>\n",
       "    </tr>\n",
       "    <tr>\n",
       "      <th>4</th>\n",
       "      <td>40.79851</td>\n",
       "      <td>-73.94399</td>\n",
       "      <td>80</td>\n",
       "      <td>10</td>\n",
       "      <td>9</td>\n",
       "      <td>0.10</td>\n",
       "      <td>1</td>\n",
       "      <td>0</td>\n",
       "    </tr>\n",
       "  </tbody>\n",
       "</table>\n",
       "</div>"
      ],
      "text/plain": [
       "   latitude  longitude  price  minimum_nights  number_of_reviews  \\\n",
       "0  40.64749  -73.97237    149               1                  9   \n",
       "1  40.75362  -73.98377    225               1                 45   \n",
       "2  40.80902  -73.94190    150               3                  0   \n",
       "3  40.68514  -73.95976     89               1                270   \n",
       "4  40.79851  -73.94399     80              10                  9   \n",
       "\n",
       "   reviews_per_month  calculated_host_listings_count  availability_365  \n",
       "0               0.21                               6               365  \n",
       "1               0.38                               2               355  \n",
       "2                NaN                               1               365  \n",
       "3               4.64                               1               194  \n",
       "4               0.10                               1                 0  "
      ]
     },
     "execution_count": 6,
     "metadata": {},
     "output_type": "execute_result"
    }
   ],
   "source": [
    "df.head()"
   ]
  },
  {
   "cell_type": "markdown",
   "id": "c149a540",
   "metadata": {},
   "source": [
    "## Question 1\n",
    "Find a feature with missing values. How many missing values does it have?"
   ]
  },
  {
   "cell_type": "code",
   "execution_count": 7,
   "id": "cf43275e",
   "metadata": {},
   "outputs": [
    {
     "name": "stdout",
     "output_type": "stream",
     "text": [
      "<class 'pandas.core.frame.DataFrame'>\n",
      "RangeIndex: 48895 entries, 0 to 48894\n",
      "Data columns (total 8 columns):\n",
      " #   Column                          Non-Null Count  Dtype  \n",
      "---  ------                          --------------  -----  \n",
      " 0   latitude                        48895 non-null  float64\n",
      " 1   longitude                       48895 non-null  float64\n",
      " 2   price                           48895 non-null  int64  \n",
      " 3   minimum_nights                  48895 non-null  int64  \n",
      " 4   number_of_reviews               48895 non-null  int64  \n",
      " 5   reviews_per_month               38843 non-null  float64\n",
      " 6   calculated_host_listings_count  48895 non-null  int64  \n",
      " 7   availability_365                48895 non-null  int64  \n",
      "dtypes: float64(3), int64(5)\n",
      "memory usage: 3.0 MB\n"
     ]
    }
   ],
   "source": [
    "df.info()"
   ]
  },
  {
   "cell_type": "code",
   "execution_count": 8,
   "id": "9934f30e",
   "metadata": {},
   "outputs": [
    {
     "data": {
      "text/plain": [
       "False    38843\n",
       "True     10052\n",
       "Name: reviews_per_month, dtype: int64"
      ]
     },
     "execution_count": 8,
     "metadata": {},
     "output_type": "execute_result"
    }
   ],
   "source": [
    "df[\"reviews_per_month\"].isnull().value_counts()"
   ]
  },
  {
   "cell_type": "markdown",
   "id": "d6e65b67",
   "metadata": {},
   "source": [
    "\"reviews_per_month\" feature has 10052 missing values."
   ]
  },
  {
   "cell_type": "markdown",
   "id": "3897128e",
   "metadata": {},
   "source": [
    "## Question 2\n",
    "What's the median (50% percentile) for variable \"minimum_nights\"?"
   ]
  },
  {
   "cell_type": "code",
   "execution_count": 9,
   "id": "ffafd87a",
   "metadata": {},
   "outputs": [
    {
     "data": {
      "text/plain": [
       "count    48895.000000\n",
       "mean         7.029962\n",
       "std         20.510550\n",
       "min          1.000000\n",
       "25%          1.000000\n",
       "50%          3.000000\n",
       "75%          5.000000\n",
       "max       1250.000000\n",
       "Name: minimum_nights, dtype: float64"
      ]
     },
     "execution_count": 9,
     "metadata": {},
     "output_type": "execute_result"
    }
   ],
   "source": [
    "df[\"minimum_nights\"].describe()"
   ]
  },
  {
   "cell_type": "markdown",
   "id": "b5c117bc",
   "metadata": {},
   "source": [
    "Median is 3."
   ]
  },
  {
   "cell_type": "markdown",
   "id": "e87773f4",
   "metadata": {},
   "source": [
    "## Split the data"
   ]
  },
  {
   "cell_type": "code",
   "execution_count": 10,
   "id": "d8c20236",
   "metadata": {},
   "outputs": [],
   "source": [
    "def prepare_data(df, seed):\n",
    "    # Shuffle the initial dataset using given seed value\n",
    "    np.random.seed(seed)\n",
    "\n",
    "    n = len(df)\n",
    "    idx = np.arange(n)\n",
    "    np.random.shuffle(idx)\n",
    "\n",
    "    df_shuffled = df.iloc[idx]\n",
    "\n",
    "    # Split data in train/val/test sets, with 60%/20%/20% distribution\n",
    "    n_test = int(0.2 * n)\n",
    "    n_val = int(0.2 * n)\n",
    "    n_train = n - (n_val + n_test)\n",
    "\n",
    "    df_train = df_shuffled.iloc[:n_train].copy()\n",
    "    df_val = df_shuffled.iloc[n_train:n_train + n_val].copy()\n",
    "    df_test = df_shuffled.iloc[n_train + n_val:].copy()\n",
    "\n",
    "    # y_train_original = df_train[\"price\"].values\n",
    "    # y_val_original = df_val[\"price\"].values\n",
    "    # y_test_original = df_test[\"price\"].values\n",
    "\n",
    "    # Apply the log transformation to the price variable using the np.log1p() function.\n",
    "    y_train = np.log1p(df_train[\"price\"].values)\n",
    "    y_val = np.log1p(df_val[\"price\"].values)\n",
    "    y_test = np.log1p(df_test[\"price\"].values)\n",
    "\n",
    "    # Make sure that the target value ('price') is not in the dataframe\n",
    "    del df_train[\"price\"]\n",
    "    del df_val[\"price\"]\n",
    "    del df_test[\"price\"]\n",
    "    \n",
    "    return df_train, df_val, df_test, y_train, y_val, y_test"
   ]
  },
  {
   "cell_type": "code",
   "execution_count": 11,
   "id": "467bfbf8",
   "metadata": {},
   "outputs": [],
   "source": [
    "df_train, df_val, df_test, y_train, y_val, y_test = prepare_data(df, 42)"
   ]
  },
  {
   "cell_type": "markdown",
   "id": "5b247baf",
   "metadata": {},
   "source": [
    "## Question 3"
   ]
  },
  {
   "cell_type": "code",
   "execution_count": 12,
   "id": "98180ccb",
   "metadata": {},
   "outputs": [],
   "source": [
    "def train_linear_regression(X, y):\n",
    "    ones = np.ones(X.shape[0])\n",
    "    X = np.column_stack([ones, X])\n",
    "\n",
    "    XTX = X.T.dot(X)\n",
    "    XTX_inv = np.linalg.inv(XTX)\n",
    "    w = XTX_inv.dot(X.T).dot(y)\n",
    "    \n",
    "    return w[0], w[1:]"
   ]
  },
  {
   "cell_type": "code",
   "execution_count": 13,
   "id": "b7b7b238",
   "metadata": {},
   "outputs": [],
   "source": [
    "def prepare_X(df, missing_val_alt):\n",
    "    df = df.fillna(missing_val_alt)\n",
    "    X = df.values\n",
    "    return X"
   ]
  },
  {
   "cell_type": "code",
   "execution_count": 14,
   "id": "8454b693",
   "metadata": {},
   "outputs": [],
   "source": [
    "def rmse(y, y_pred):\n",
    "    error = y_pred - y\n",
    "    mse = (error ** 2).mean()\n",
    "    return np.sqrt(mse)"
   ]
  },
  {
   "cell_type": "code",
   "execution_count": 15,
   "id": "22412cdc",
   "metadata": {},
   "outputs": [
    {
     "data": {
      "text/plain": [
       "0.64"
      ]
     },
     "execution_count": 15,
     "metadata": {},
     "output_type": "execute_result"
    }
   ],
   "source": [
    "# Filling the missing values with 0\n",
    "X_train = prepare_X(df_train, 0)\n",
    "w_0, w = train_linear_regression(X_train, y_train)\n",
    "\n",
    "X_val = prepare_X(df_val, 0)\n",
    "y_pred = w_0 + X_val.dot(w)\n",
    "rmse(y_val, y_pred).round(2)"
   ]
  },
  {
   "cell_type": "code",
   "execution_count": 16,
   "id": "c916dae0",
   "metadata": {},
   "outputs": [
    {
     "data": {
      "text/plain": [
       "0.64"
      ]
     },
     "execution_count": 16,
     "metadata": {},
     "output_type": "execute_result"
    }
   ],
   "source": [
    "# Filling the missing values with mean\n",
    "mean = df_train[\"reviews_per_month\"].mean()\n",
    "\n",
    "X_train = prepare_X(df_train, mean)\n",
    "w_0, w = train_linear_regression(X_train, y_train)\n",
    "\n",
    "X_val = prepare_X(df_val, mean)\n",
    "y_pred = w_0 + X_val.dot(w)\n",
    "rmse(y_val, y_pred).round(2)"
   ]
  },
  {
   "cell_type": "markdown",
   "id": "cc0903c7",
   "metadata": {},
   "source": [
    "The RMSE values for both cases are same. Both are equally good in this case."
   ]
  },
  {
   "cell_type": "markdown",
   "id": "3df9d394",
   "metadata": {},
   "source": [
    "## Question 4"
   ]
  },
  {
   "cell_type": "code",
   "execution_count": 17,
   "id": "5b38b0c3",
   "metadata": {},
   "outputs": [],
   "source": [
    "def train_linear_regression_reg(X, y, r=0.0):\n",
    "    ones = np.ones(X.shape[0])\n",
    "    X = np.column_stack([ones, X])\n",
    "\n",
    "    XTX = X.T.dot(X)\n",
    "    reg = r * np.eye(XTX.shape[0])\n",
    "    XTX = XTX + reg\n",
    "\n",
    "    XTX_inv = np.linalg.inv(XTX)\n",
    "    w = XTX_inv.dot(X.T).dot(y)\n",
    "    \n",
    "    return w[0], w[1:]"
   ]
  },
  {
   "cell_type": "code",
   "execution_count": 18,
   "id": "3dbfab1b",
   "metadata": {},
   "outputs": [
    {
     "name": "stdout",
     "output_type": "stream",
     "text": [
      "For r =     0, RMSE = 0.64\n",
      "For r = 1e-06, RMSE = 0.64\n",
      "For r = 0.0001, RMSE = 0.64\n",
      "For r = 0.001, RMSE = 0.64\n",
      "For r =  0.01, RMSE = 0.66\n",
      "For r =   0.1, RMSE = 0.68\n",
      "For r =     1, RMSE = 0.68\n",
      "For r =     5, RMSE = 0.68\n",
      "For r =    10, RMSE = 0.68\n"
     ]
    }
   ],
   "source": [
    "X_train = prepare_X(df_train, 0)\n",
    "\n",
    "for r in [0, 0.000001, 0.0001, 0.001, 0.01, 0.1, 1, 5, 10]:\n",
    "    w_0, w = train_linear_regression_reg(X_train, y_train, r=r)\n",
    "    \n",
    "    X_val = prepare_X(df_val, 0)\n",
    "    y_pred = w_0 + X_val.dot(w)\n",
    "    print(\"For r = %5s, RMSE = %.2f\" % (r, rmse(y_val, y_pred).round(2)))"
   ]
  },
  {
   "cell_type": "markdown",
   "id": "ca609d36",
   "metadata": {},
   "source": [
    "We get the best RMSE value 0.64 for multiple `r`. The smallest `r` value is 0."
   ]
  },
  {
   "cell_type": "markdown",
   "id": "f46a6698",
   "metadata": {},
   "source": [
    "## Question 5"
   ]
  },
  {
   "cell_type": "code",
   "execution_count": 19,
   "id": "4af36399",
   "metadata": {},
   "outputs": [],
   "source": [
    "seeds = [0, 1, 2, 3, 4, 5, 6, 7, 8, 9]\n",
    "rmse_scores = []\n",
    "\n",
    "for seed in seeds:\n",
    "    df_train, df_val, df_test, y_train, y_val, y_test = prepare_data(df, seed)\n",
    "    \n",
    "    X_train = prepare_X(df_train, 0)\n",
    "    w_0, w = train_linear_regression(X_train, y_train)\n",
    "\n",
    "    X_val = prepare_X(df_val, 0)\n",
    "    y_pred = w_0 + X_val.dot(w)\n",
    "    rmse_scores.append(rmse(y_val, y_pred))"
   ]
  },
  {
   "cell_type": "code",
   "execution_count": 20,
   "id": "2981259c",
   "metadata": {},
   "outputs": [
    {
     "data": {
      "text/plain": [
       "0.008"
      ]
     },
     "execution_count": 20,
     "metadata": {},
     "output_type": "execute_result"
    }
   ],
   "source": [
    "np.std(rmse_scores).round(3)"
   ]
  },
  {
   "cell_type": "markdown",
   "id": "6753b432",
   "metadata": {},
   "source": [
    "The standard deviation is 0.008."
   ]
  },
  {
   "cell_type": "markdown",
   "id": "bda72a14",
   "metadata": {},
   "source": [
    "## Question 6"
   ]
  },
  {
   "cell_type": "code",
   "execution_count": 21,
   "id": "55c08dee",
   "metadata": {},
   "outputs": [
    {
     "data": {
      "text/plain": [
       "0.65"
      ]
     },
     "execution_count": 21,
     "metadata": {},
     "output_type": "execute_result"
    }
   ],
   "source": [
    "df_train, df_val, df_test, y_train, y_val, y_test = prepare_data(df, 9)\n",
    "\n",
    "# Combine train and validation datasets\n",
    "df_train_combined = pd.concat([df_train, df_val])\n",
    "y_train_combined = np.concatenate((y_train, y_val), axis=0)\n",
    "\n",
    "X_train_combined = prepare_X(df_train_combined, 0)\n",
    "w_0, w = train_linear_regression_reg(X_train_combined, y_train_combined, r=0.001)\n",
    "    \n",
    "X_test = prepare_X(df_test, 0)\n",
    "y_pred = w_0 + X_test.dot(w)\n",
    "rmse(y_test, y_pred).round(2)"
   ]
  },
  {
   "cell_type": "code",
   "execution_count": null,
   "id": "2ee48d7b",
   "metadata": {},
   "outputs": [],
   "source": []
  }
 ],
 "metadata": {
  "kernelspec": {
   "display_name": "Python 3 (ipykernel)",
   "language": "python",
   "name": "python3"
  },
  "language_info": {
   "codemirror_mode": {
    "name": "ipython",
    "version": 3
   },
   "file_extension": ".py",
   "mimetype": "text/x-python",
   "name": "python",
   "nbconvert_exporter": "python",
   "pygments_lexer": "ipython3",
   "version": "3.9.7"
  }
 },
 "nbformat": 4,
 "nbformat_minor": 5
}
