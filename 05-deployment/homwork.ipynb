{
 "cells": [
  {
   "cell_type": "markdown",
   "id": "914c29be",
   "metadata": {},
   "source": [
    "# Session #5 Homework"
   ]
  },
  {
   "cell_type": "code",
   "execution_count": 1,
   "id": "e2fc8021",
   "metadata": {},
   "outputs": [],
   "source": [
    "import pickle\n",
    "import requests"
   ]
  },
  {
   "cell_type": "markdown",
   "id": "3c360f0e",
   "metadata": {},
   "source": [
    "## Question 1\n",
    "What's the version of pipenv you installed?  \n",
    "2021.5.29"
   ]
  },
  {
   "cell_type": "markdown",
   "id": "b14ff625",
   "metadata": {},
   "source": [
    "## Question 2\n",
    "What's the first hash for scikit-learn you get in Pipfile.lock?  \n",
    "sha256:121f78d6564000dc5e968394f45aac87981fcaaf2be40cfcd8f07b2baa1e1829"
   ]
  },
  {
   "cell_type": "markdown",
   "id": "ccb371f8",
   "metadata": {},
   "source": [
    "## Question 3\n",
    "What's the probability that this customer is churning?"
   ]
  },
  {
   "cell_type": "code",
   "execution_count": 2,
   "id": "2da50e6a",
   "metadata": {},
   "outputs": [],
   "source": [
    "# Load the dict vectorizer\n",
    "with open('dv.bin', 'rb') as dv_bin:\n",
    "    dv = pickle.load(dv_bin)\n",
    "dv_bin.close()"
   ]
  },
  {
   "cell_type": "code",
   "execution_count": 3,
   "id": "6a3317e1",
   "metadata": {},
   "outputs": [],
   "source": [
    "# Load the model\n",
    "with open('model1.bin', 'rb') as model_bin:\n",
    "    model = pickle.load(model_bin)\n",
    "model_bin.close()"
   ]
  },
  {
   "cell_type": "code",
   "execution_count": 4,
   "id": "07cc8d02",
   "metadata": {},
   "outputs": [
    {
     "data": {
      "text/plain": [
       "0.115"
      ]
     },
     "execution_count": 4,
     "metadata": {},
     "output_type": "execute_result"
    }
   ],
   "source": [
    "customer = {\"contract\": \"two_year\", \"tenure\": 12, \"monthlycharges\": 19.7}\n",
    "X = dv.transform(customer)\n",
    "y = model.predict_proba(X)[0,1]\n",
    "y.round(3)"
   ]
  },
  {
   "cell_type": "markdown",
   "id": "eda081c3",
   "metadata": {},
   "source": [
    "The probability of churning is 0.115 ."
   ]
  },
  {
   "cell_type": "markdown",
   "id": "f5f0599c",
   "metadata": {},
   "source": [
    "## Question 4\n",
    "What's the probability that this customer is churning?"
   ]
  },
  {
   "cell_type": "code",
   "execution_count": 5,
   "id": "c1715e69",
   "metadata": {},
   "outputs": [
    {
     "data": {
      "text/plain": [
       "{'churn': True, 'churn_probability': 0.999}"
      ]
     },
     "execution_count": 5,
     "metadata": {},
     "output_type": "execute_result"
    }
   ],
   "source": [
    "#  waitress-serve --listen 0.0.0.0:8080 predict:app\n",
    "\n",
    "url = \"http://localhost:8080/predict\"\n",
    "customer = {\"contract\": \"two_year\", \"tenure\": 1, \"monthlycharges\": 10}\n",
    "requests.post(url, json=customer).json()"
   ]
  },
  {
   "cell_type": "markdown",
   "id": "209419e1",
   "metadata": {},
   "source": [
    "The probabilityis 0.999 ."
   ]
  },
  {
   "cell_type": "markdown",
   "id": "1ea69048",
   "metadata": {},
   "source": [
    "## Question 5"
   ]
  },
  {
   "cell_type": "markdown",
   "id": "b2f48a7f",
   "metadata": {},
   "source": [
    "Docker image ID is f0f43f7bc6e0 ."
   ]
  },
  {
   "cell_type": "markdown",
   "id": "d79235ff",
   "metadata": {},
   "source": [
    "## Question 6\n",
    "What's the probability that this customer is churning?"
   ]
  },
  {
   "cell_type": "code",
   "execution_count": 12,
   "id": "446962f5",
   "metadata": {},
   "outputs": [
    {
     "data": {
      "text/plain": [
       "{'churn': True, 'churn_probability': 0.728}"
      ]
     },
     "execution_count": 12,
     "metadata": {},
     "output_type": "execute_result"
    }
   ],
   "source": [
    "url = \"http://localhost:9696/predict\"\n",
    "customer = {\"contract\": \"two_year\", \"tenure\": 12, \"monthlycharges\": 10}\n",
    "requests.post(url, json=customer).json()"
   ]
  },
  {
   "cell_type": "markdown",
   "id": "21ad291c",
   "metadata": {},
   "source": [
    "The probability is 0.728 ."
   ]
  },
  {
   "cell_type": "code",
   "execution_count": null,
   "id": "7be3d0fe",
   "metadata": {},
   "outputs": [],
   "source": []
  }
 ],
 "metadata": {
  "kernelspec": {
   "display_name": "Python 3 (ipykernel)",
   "language": "python",
   "name": "python3"
  },
  "language_info": {
   "codemirror_mode": {
    "name": "ipython",
    "version": 3
   },
   "file_extension": ".py",
   "mimetype": "text/x-python",
   "name": "python",
   "nbconvert_exporter": "python",
   "pygments_lexer": "ipython3",
   "version": "3.9.7"
  }
 },
 "nbformat": 4,
 "nbformat_minor": 5
}
